{
 "cells": [
  {
   "cell_type": "code",
   "execution_count": 1,
   "id": "6af11a5b-b5e5-42f1-89c2-3dbabbed363a",
   "metadata": {},
   "outputs": [],
   "source": [
    "# Importem les llibreries\n",
    "import numpy as np\n",
    "import matplotlib.pyplot as plt\n",
    "import pandas as pd\n",
    "import xarray as xr # per guardar les dades 3D\n",
    "from collections import Counter"
   ]
  },
  {
   "cell_type": "code",
   "execution_count": 2,
   "id": "be7d4e1f-3615-4213-8826-542a5695996f",
   "metadata": {},
   "outputs": [],
   "source": [
    "# Carreguem les dades\n",
    "data_df = pd.read_csv('results.csv')\n",
    "\n",
    "# Emplenem els espais en blanc amb 0\n",
    "data_df = data_df.fillna(0.)"
   ]
  },
  {
   "cell_type": "code",
   "execution_count": 3,
   "id": "e2df833c-21da-40ea-883e-17beb013b213",
   "metadata": {},
   "outputs": [],
   "source": [
    "# Read the number of games played per each player\n",
    "dataarray = xr.open_dataset('stats.nc', engine='scipy')\n",
    "played_games = dataarray['GamesPlayed'].isel(matchday=-1)"
   ]
  },
  {
   "cell_type": "code",
   "execution_count": 4,
   "id": "7bcb60bb-e3cf-4a80-b10b-5f1230d77eeb",
   "metadata": {},
   "outputs": [
    {
     "ename": "TypeError",
     "evalue": "'<' not supported between instances of 'float' and 'str'",
     "output_type": "error",
     "traceback": [
      "\u001b[1;31m---------------------------------------------------------------------------\u001b[0m",
      "\u001b[1;31mTypeError\u001b[0m                                 Traceback (most recent call last)",
      "Cell \u001b[1;32mIn[4], line 2\u001b[0m\n\u001b[0;32m      1\u001b[0m \u001b[38;5;66;03m# Obtenim una llista amb tots els noms dels participants\u001b[39;00m\n\u001b[1;32m----> 2\u001b[0m players_names \u001b[38;5;241m=\u001b[39m \u001b[43mnp\u001b[49m\u001b[38;5;241;43m.\u001b[39;49m\u001b[43munique\u001b[49m\u001b[43m(\u001b[49m\u001b[43mdata_df\u001b[49m\u001b[43m[\u001b[49m\u001b[43m[\u001b[49m\u001b[38;5;124;43m'\u001b[39;49m\u001b[38;5;124;43mJugador 1\u001b[39;49m\u001b[38;5;124;43m'\u001b[39;49m\u001b[43m,\u001b[49m\u001b[43m \u001b[49m\u001b[38;5;124;43m'\u001b[39;49m\u001b[38;5;124;43mJugador 2\u001b[39;49m\u001b[38;5;124;43m'\u001b[39;49m\u001b[43m,\u001b[49m\u001b[43m \u001b[49m\u001b[38;5;124;43m'\u001b[39;49m\u001b[38;5;124;43mJugador 3\u001b[39;49m\u001b[38;5;124;43m'\u001b[39;49m\u001b[43m,\u001b[49m\u001b[43m \u001b[49m\u001b[38;5;124;43m'\u001b[39;49m\u001b[38;5;124;43mJugador 4\u001b[39;49m\u001b[38;5;124;43m'\u001b[39;49m\u001b[43m]\u001b[49m\u001b[43m]\u001b[49m\u001b[38;5;241;43m.\u001b[39;49m\u001b[43mvalues\u001b[49m\u001b[38;5;241;43m.\u001b[39;49m\u001b[43mflatten\u001b[49m\u001b[43m(\u001b[49m\u001b[43m)\u001b[49m\u001b[43m)\u001b[49m\n\u001b[0;32m      4\u001b[0m \u001b[38;5;66;03m# Llista de dies jugats\u001b[39;00m\n\u001b[0;32m      5\u001b[0m matchdays \u001b[38;5;241m=\u001b[39m pd\u001b[38;5;241m.\u001b[39munique(data_df[\u001b[38;5;124m'\u001b[39m\u001b[38;5;124mD\u001b[39m\u001b[38;5;124m'\u001b[39m])\n",
      "File \u001b[1;32mC:\\users\\admin\\appdata\\local\\programs\\python\\python39\\lib\\site-packages\\numpy\\lib\\arraysetops.py:274\u001b[0m, in \u001b[0;36munique\u001b[1;34m(ar, return_index, return_inverse, return_counts, axis, equal_nan)\u001b[0m\n\u001b[0;32m    272\u001b[0m ar \u001b[38;5;241m=\u001b[39m np\u001b[38;5;241m.\u001b[39masanyarray(ar)\n\u001b[0;32m    273\u001b[0m \u001b[38;5;28;01mif\u001b[39;00m axis \u001b[38;5;129;01mis\u001b[39;00m \u001b[38;5;28;01mNone\u001b[39;00m:\n\u001b[1;32m--> 274\u001b[0m     ret \u001b[38;5;241m=\u001b[39m \u001b[43m_unique1d\u001b[49m\u001b[43m(\u001b[49m\u001b[43mar\u001b[49m\u001b[43m,\u001b[49m\u001b[43m \u001b[49m\u001b[43mreturn_index\u001b[49m\u001b[43m,\u001b[49m\u001b[43m \u001b[49m\u001b[43mreturn_inverse\u001b[49m\u001b[43m,\u001b[49m\u001b[43m \u001b[49m\u001b[43mreturn_counts\u001b[49m\u001b[43m,\u001b[49m\u001b[43m \u001b[49m\n\u001b[0;32m    275\u001b[0m \u001b[43m                    \u001b[49m\u001b[43mequal_nan\u001b[49m\u001b[38;5;241;43m=\u001b[39;49m\u001b[43mequal_nan\u001b[49m\u001b[43m)\u001b[49m\n\u001b[0;32m    276\u001b[0m     \u001b[38;5;28;01mreturn\u001b[39;00m _unpack_tuple(ret)\n\u001b[0;32m    278\u001b[0m \u001b[38;5;66;03m# axis was specified and not None\u001b[39;00m\n",
      "File \u001b[1;32mC:\\users\\admin\\appdata\\local\\programs\\python\\python39\\lib\\site-packages\\numpy\\lib\\arraysetops.py:336\u001b[0m, in \u001b[0;36m_unique1d\u001b[1;34m(ar, return_index, return_inverse, return_counts, equal_nan)\u001b[0m\n\u001b[0;32m    334\u001b[0m     aux \u001b[38;5;241m=\u001b[39m ar[perm]\n\u001b[0;32m    335\u001b[0m \u001b[38;5;28;01melse\u001b[39;00m:\n\u001b[1;32m--> 336\u001b[0m     \u001b[43mar\u001b[49m\u001b[38;5;241;43m.\u001b[39;49m\u001b[43msort\u001b[49m\u001b[43m(\u001b[49m\u001b[43m)\u001b[49m\n\u001b[0;32m    337\u001b[0m     aux \u001b[38;5;241m=\u001b[39m ar\n\u001b[0;32m    338\u001b[0m mask \u001b[38;5;241m=\u001b[39m np\u001b[38;5;241m.\u001b[39mempty(aux\u001b[38;5;241m.\u001b[39mshape, dtype\u001b[38;5;241m=\u001b[39mnp\u001b[38;5;241m.\u001b[39mbool_)\n",
      "\u001b[1;31mTypeError\u001b[0m: '<' not supported between instances of 'float' and 'str'"
     ]
    }
   ],
   "source": [
    "# Obtenim una llista amb tots els noms dels participants\n",
    "players_names = np.unique(data_df[['Jugador 1', 'Jugador 2', 'Jugador 3', 'Jugador 4']].values.flatten())\n",
    "\n",
    "# Llista de dies jugats\n",
    "matchdays = pd.unique(data_df['D'])"
   ]
  },
  {
   "cell_type": "code",
   "execution_count": null,
   "id": "a9ffe877-4830-4f15-90d6-94b5bd64a64d",
   "metadata": {},
   "outputs": [],
   "source": [
    "# DataFrame with the number of team occurrences\n",
    "mates_df = pd.DataFrame(columns = players_names) # number of games played with each mate\n",
    "matesplayed_df = pd.DataFrame(columns = players_names) # number of games played with each mate divided by number of games playe by player\n",
    "winmates_df = pd.DataFrame(columns = players_names) # number of games won by each mate\n",
    "\n",
    "for player in players_names: # for eack player\n",
    "    # Initialize a dictionary where the number of team-ups will be stored\n",
    "    mate_count = {}\n",
    "    mateplayed_count = {} # number of games played with mate divided by total games played\n",
    "    winmate_count = {}\n",
    "    for mate in players_names:\n",
    "        mate_count[mate] = 0 # set counter to 0\n",
    "        mateplayed_count[mate] = 0\n",
    "        winmate_count[mate] = 0\n",
    "\n",
    "    # Possible lineups\n",
    "    lineups = [['Jugador 1', 'Jugador 2'], ['Jugador 2', 'Jugador 1'], ['Jugador 3', 'Jugador 4'], ['Jugador 4', 'Jugador 3']]\n",
    "\n",
    "    # Calculate number of playing counts and victories\n",
    "    for lineup in lineups:\n",
    "        lineup_df = data_df[data_df[lineup[0]] == player] # pick games when player plays in position lineup[0]\n",
    "        teammate_list = lineup_df[lineup[1]] # pick teammate name when player plays in position lineup[1]\n",
    "        teammate_list_counts = teammate_list.value_counts() # count how many team occurences (teammate in position lineup[1])\n",
    "        for mate in teammate_list_counts.keys():\n",
    "            mate_count[mate] = mate_count.get(mate, 0) + teammate_list_counts.loc[mate] # store the teammate join number\n",
    "\n",
    "            mask_mate = (teammate_list == mate) # mask selecting the games that involve 'mate'\n",
    "            if lineup in [lineups[0], lineups[1]]: # pick lineups playing as local\n",
    "                number_victories = (lineup_df['Local'][mask_mate] > lineup_df['Visitant'][mask_mate]).sum() # calculate number of victories\n",
    "                if number_victories: # if the game was won\n",
    "                    winmate_count[mate] = winmate_count.get(mate, 0) + number_victories # add number of victories\n",
    "            elif lineup in [lineups[2], lineups[3]]: # pick lineups playing as visitor    \n",
    "                number_victories = (lineup_df['Local'][mask_mate] < lineup_df['Visitant'][mask_mate]).sum() # calculate number of victories\n",
    "                if number_victories: # if the game was won\n",
    "                    winmate_count[mate] = winmate_count.get(mate, 0) + number_victories # add number of victories\n",
    "\n",
    "    # Divide count by number of games played by player\n",
    "    for mate in mate_count.keys():   \n",
    "        if played_games.sel(player = player).values == 0:\n",
    "            continue\n",
    "        else:\n",
    "            mateplayed_count[mate] = mate_count.get(mate, 0) / played_games.sel(player = player).values\n",
    "\n",
    "    # Append this player result to the overall property dataframe\n",
    "    mates_df = pd.concat([mates_df, pd.DataFrame([mate_count])])\n",
    "    matesplayed_df = pd.concat([matesplayed_df, pd.DataFrame([mateplayed_count])])\n",
    "    winmates_df = pd.concat([winmates_df, pd.DataFrame([winmate_count])])\n",
    "\n",
    "# Transpose to match dimesnions with xarray dimensions (x: player, y: teammate)\n",
    "matesplayed_df = matesplayed_df.transpose() # necessary if matrix is not symmetric\n",
    "\n",
    "# Set index to teammate name\n",
    "mates_df = mates_df.set_index(players_names)\n",
    "winmates_df = winmates_df.set_index(players_names)\n",
    "\n",
    "# Create win / played ratio for each team (substitute 0 in the denominator by NaN, then recover 0 in the result)\n",
    "winmatesplayed_df = winmates_df.div(mates_df.replace(0, pd.NA)).replace(pd.NA, 0)\n"
   ]
  },
  {
   "cell_type": "code",
   "execution_count": null,
   "id": "9175f2f2-cc1f-4fc8-908a-02a2a2e56482",
   "metadata": {},
   "outputs": [],
   "source": [
    "# Creem una DataArray de xarray. Hi especifiquem els noms de cada dimensió\n",
    "mates_da = xr.DataArray(mates_df.values, dims = ('teammate', 'player'),\n",
    "                                      coords = {'teammate': mates_df.index, 'player': mates_df.columns})\n",
    "matesplayed_da = xr.DataArray(matesplayed_df.values, dims = ('teammate', 'player'),\n",
    "                                      coords = {'teammate': mates_df.index, 'player': mates_df.columns})\n",
    "winmates_da = xr.DataArray(winmates_df.values, dims = ('teammate', 'player'),\n",
    "                                      coords = {'teammate': winmates_df.index, 'player': winmates_df.columns})\n",
    "winmatesplayed_da = xr.DataArray(winmatesplayed_df.values, dims = ('teammate', 'player'),\n",
    "                                      coords = {'teammate': winmatesplayed_df.index, 'player': winmatesplayed_df.columns})\n",
    "\n",
    "\n",
    "# Combinem tots els DataArrays a un únic Dataset de xarray (cal que les coords siguin les mateixes per a tots)\n",
    "dataset = xr.Dataset({\"Teammates\": mates_da,\n",
    "                      \"TeammatesPlayed\": matesplayed_da,\n",
    "                      \"TeammatesWins\": winmates_da,\n",
    "                      \"TeammatesWinsPlayed\": winmatesplayed_da})\n",
    "\n",
    "# TODO: el procés de crear el DataArray a partir del DataFrame es pot automatitzar amb una funció que faci un concat al dataframe. \n",
    "\n",
    "# Sote dataset\n",
    "dataset.to_netcdf('teammates.nc', mode='w')\n",
    "\n",
    "# dataset['goals'] = goals_da # si volem afegir un nou element\n",
    "dataset"
   ]
  },
  {
   "cell_type": "code",
   "execution_count": null,
   "id": "b62385a6-ec7f-4e39-8c99-165b5d502d70",
   "metadata": {},
   "outputs": [],
   "source": []
  }
 ],
 "metadata": {
  "kernelspec": {
   "display_name": "Python 3 (ipykernel)",
   "language": "python",
   "name": "python3"
  },
  "language_info": {
   "codemirror_mode": {
    "name": "ipython",
    "version": 3
   },
   "file_extension": ".py",
   "mimetype": "text/x-python",
   "name": "python",
   "nbconvert_exporter": "python",
   "pygments_lexer": "ipython3",
   "version": "3.9.3"
  }
 },
 "nbformat": 4,
 "nbformat_minor": 5
}
