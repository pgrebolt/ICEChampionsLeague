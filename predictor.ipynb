{
 "cells": [
  {
   "cell_type": "markdown",
   "id": "fb4505f3-40da-4581-8df0-3aa9f015c8c6",
   "metadata": {},
   "source": [
    "### Prediccions amb el model\n",
    "\n",
    "Si volem aprofitar el model per fer prediccions, li hem de passar els paràmetres amb els quals s'ha entrenat el model (dins de `X_train`). Per nosaltres és més fàcil escriure el nom dels jugadors que juguen. A partir d'aquí, crearem la llista de valors dels jugadors i en farem la predicció amb el model."
   ]
  },
  {
   "cell_type": "code",
   "execution_count": null,
   "id": "fd0da95f-9d60-4522-b48c-45d33deb1bf5",
   "metadata": {},
   "outputs": [],
   "source": [
    "import numpy as np\n",
    "import pandas as pd\n",
    "import xarray as xr\n",
    "\n",
    "import joblib\n",
    "\n",
    "from sklearn import preprocessing\n",
    "\n",
    "from tensorflow import keras\n",
    "from tensorflow.keras import layers, models\n",
    "from tensorflow.keras.models import Sequential\n",
    "from tensorflow.keras.layers import Dense"
   ]
  },
  {
   "cell_type": "code",
   "execution_count": null,
   "id": "8b9e71ee-0ff3-42d8-a016-89d745ed65b8",
   "metadata": {},
   "outputs": [],
   "source": [
    "# Llegim les estadístiques de cada jugador\n",
    "stats_xr = xr.open_dataset('stats.nc', engine='scipy')\n",
    "stats_xr"
   ]
  },
  {
   "cell_type": "code",
   "execution_count": null,
   "id": "5a259b60-a686-44bd-82c7-f0dde942ad2c",
   "metadata": {},
   "outputs": [],
   "source": [
    "# Llegim l'scaler\n",
    "scaler = joblib.load('scaler.pkl')\n",
    "encoder_scores = joblib.load('encoder_scores.pkl')"
   ]
  },
  {
   "cell_type": "code",
   "execution_count": null,
   "id": "851c8f2d-b8ae-4763-9619-22bc8e91b5fc",
   "metadata": {},
   "outputs": [],
   "source": [
    "# Paràmetres que considerem al model, en funció de si el jugador és atacant o defensor (COMPROVAR QUE ÉS EL MATEIX QUE A L'ALTRE NOTEBOOK)\n",
    "considered_stats_defense = ['GamesPlayed', 'WeigthedELO', 'PlayedDefense', 'WinPlayedDefense', 'ScoredDefensePlayed', 'ReceivedDefensePlayed', 'ELODefense', 'DefenseIndex']\n",
    "considered_stats_attack = ['GamesPlayed', 'WeigthedELO', 'PlayedAttack', 'WinPlayedAttack', 'ScoredAttackPlayed', 'ReceivedAttackPlayed', 'ELOAttack', 'AttackIndex']"
   ]
  },
  {
   "cell_type": "code",
   "execution_count": null,
   "id": "738a654d-c757-41ea-9c90-fc6fdea71d00",
   "metadata": {},
   "outputs": [],
   "source": [
    "# Si volem carregar el model\n",
    "model = keras.models.load_model('sequential.keras')"
   ]
  },
  {
   "cell_type": "code",
   "execution_count": null,
   "id": "3f2289ec-afe7-4d03-b3be-e3a431936b60",
   "metadata": {},
   "outputs": [],
   "source": [
    "# Jugadors, per alineació\n",
    "player_list = ['Víctor', 'Elena', 'Guille', 'Luis']\n",
    "\n",
    "# Creem la llista d'estadístiques per fer la predicció\n",
    "stats_match = []\n",
    "for player in player_list:\n",
    "        if player in [player_list[0], player_list[2]]: # defensors\n",
    "            # Triem les estadístiques més recents dels jugadors\n",
    "            player_stats = stats_xr.isel(matchday=-1).sel(player=player)[considered_stats_defense].to_array().values\n",
    "        elif player in [player_list[1], player_list[3]]: # atacants\n",
    "            # Triem les estadístiques més recents dels jugadors\n",
    "            player_stats = stats_xr.isel(matchday=-1).sel(player=player)[considered_stats_attack].to_array().values\n",
    "        stats_match = stats_match + list(player_stats) # adjuntem les estadístiques del jugador a les dades d'aquest partit\n",
    "\n",
    "# Tornem a estandaritzar els valors d'acord a com hem fet amb els valors d'entrenament\n",
    "stats_match = np.array([stats_match]) # scaler espera una matriu 2D\n",
    "stats_match_stand = scaler.transform(stats_match.astype(float))\n",
    "\n",
    "# Fem la predicció\n",
    "score_prediction = model.predict(stats_match_stand)\n",
    "score_prediction_output = score_prediction.argmax(axis = 1)\n",
    "\n",
    "score_prediction_output_label = encoder_scores.inverse_transform(score_prediction_output)\n",
    "\n",
    "print('Predicted result: ', score_prediction_output_label)"
   ]
  }
 ],
 "metadata": {
  "kernelspec": {
   "display_name": "Python 3 (ipykernel)",
   "language": "python",
   "name": "python3"
  },
  "language_info": {
   "codemirror_mode": {
    "name": "ipython",
    "version": 3
   },
   "file_extension": ".py",
   "mimetype": "text/x-python",
   "name": "python",
   "nbconvert_exporter": "python",
   "pygments_lexer": "ipython3",
   "version": "3.9.3"
  }
 },
 "nbformat": 4,
 "nbformat_minor": 5
}
