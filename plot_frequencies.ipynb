{
 "cells": [
  {
   "cell_type": "markdown",
   "id": "d7257ca0-ce62-4e5d-908d-7a0995a5c191",
   "metadata": {},
   "source": [
    "## Frequencies plotter"
   ]
  },
  {
   "cell_type": "markdown",
   "id": "83152301-3056-4084-bcf6-e5c86489351a",
   "metadata": {},
   "source": [
    "In this notebook we load the stored data of frequencies between teams and plot them. The basic structure of the code is to read and then to plot."
   ]
  },
  {
   "cell_type": "markdown",
   "id": "e330a7cd-5411-447e-851b-02a6f1e00c1c",
   "metadata": {},
   "source": [
    "First, we import the required libraries."
   ]
  },
  {
   "cell_type": "code",
   "execution_count": 1,
   "id": "ff8f9c19-8af2-402a-bb52-9579cf355791",
   "metadata": {},
   "outputs": [],
   "source": [
    "import matplotlib.pyplot as plt\n",
    "import numpy as np\n",
    "import xarray as xr\n",
    "import pandas as pd"
   ]
  },
  {
   "cell_type": "markdown",
   "id": "96d6d21e-c305-421a-a984-56db6425189a",
   "metadata": {},
   "source": [
    "Read the stored NetCDF4 file, where the data is stored."
   ]
  },
  {
   "cell_type": "code",
   "execution_count": null,
   "id": "675cc8c3-bd52-4521-b0f3-893dcf1d5899",
   "metadata": {},
   "outputs": [],
   "source": [
    "# Llegim les dades\n",
    "dataarray = xr.open_dataset('teammates.nc', engine='scipy')\n",
    "dataarray"
   ]
  },
  {
   "cell_type": "markdown",
   "id": "3c6000ef-48b8-4f2d-9ebc-4872ede2f49e",
   "metadata": {},
   "source": [
    "Store the list of all the players."
   ]
  },
  {
   "cell_type": "code",
   "execution_count": null,
   "id": "507ec5fb-3f0f-434c-b2fa-ab03aa79e453",
   "metadata": {},
   "outputs": [],
   "source": [
    "# List of all player names (ordered)\n",
    "players_names = dataarray.player.values"
   ]
  },
  {
   "cell_type": "markdown",
   "id": "6d9a422c-da66-4a1a-af25-0c6b70c6bd18",
   "metadata": {},
   "source": [
    "Define a function that will plot the heatmap of each parameter."
   ]
  },
  {
   "cell_type": "code",
   "execution_count": null,
   "id": "7c8c8081-d0db-4852-8738-fddb3733eadb",
   "metadata": {},
   "outputs": [],
   "source": [
    "# Function to plot the heatmaps\n",
    "def heatmap_frequencies(matrix, ax, cmap = 'YlGn'):\n",
    "    # Plot heatmap\n",
    "    if cmap == 'Reds':\n",
    "        ax.imshow(matrix, cmap = cmap, aspect = 'equal', vmin = 0, vmax = 1)\n",
    "    else:\n",
    "        ax.imshow(matrix, cmap = cmap, aspect = 'equal')\n",
    "    \n",
    "    # Show the values at each cell\n",
    "    for i in range(matrix.shape[0]):\n",
    "        for j in range(matrix.shape[1]):\n",
    "            value = matrix[i,j] # value at that cell\n",
    "\n",
    "            if np.isnan(value):\n",
    "                continue\n",
    "            else:\n",
    "                if isinstance(value, float): # if values are float\n",
    "                    ax.text(j, i, \"{:.2f}\".format(value), ha='center', va='center', fontsize=7, color=\"black\")\n",
    "                else: # if values are other (int)\n",
    "                    ax.text(j, i, \"{:d}\".format(value), ha='center', va='center', fontsize=7, color=\"black\")\n",
    "        "
   ]
  },
  {
   "cell_type": "markdown",
   "id": "4dca1dba-8675-4b1e-a65c-017ab780e2e3",
   "metadata": {},
   "source": [
    "Plotting. First, select the parameters to plot, and store their corresponding numpy arrays (matrices). We filter the 0 values in the ratio between wins and played games for plotting purposes. Then, initialize the figure and plot each colormap using the previouly-defined function."
   ]
  },
  {
   "cell_type": "code",
   "execution_count": null,
   "id": "a9c5d7fe-105c-43d9-814a-5cde6e826103",
   "metadata": {},
   "outputs": [],
   "source": [
    "teammates = dataarray['Teammates'].values.astype(int) # number of games played with each teammate\n",
    "teammates_wins = dataarray['TeammatesWins'].values.astype(int) # number of games won with each teammate\n",
    "teammatesplayed = dataarray['TeammatesPlayed'].values.astype(float) # percentage of games played with each mate wrt the total games played by player\n",
    "teammatesplayed_wins = dataarray['TeammatesWinsPlayed'].values.astype(float) # percentage of games played with each mate wrt the total games played by player\n",
    "\n",
    "teammatesplayed_wins[teammatesplayed_wins == 0.] = np.nan\n",
    "\n",
    "fig, axs = plt.subplots(figsize=(16,16), ncols = 2, nrows = 2)\n",
    "axs = axs.flatten()\n",
    "\n",
    "heatmap_frequencies(teammates, axs[0])\n",
    "heatmap_frequencies(teammates_wins, axs[1])\n",
    "heatmap_frequencies(teammatesplayed, axs[2])\n",
    "heatmap_frequencies(teammatesplayed_wins, axs[3], cmap = 'RdYlGn') # la parella més efectiva és la que té aquest valor més alt\n",
    "\n",
    "# Add tick labels\n",
    "axs[0].set_title(\"Games played\")\n",
    "axs[1].set_title(\"Games won\")\n",
    "axs[2].set_title(\"Games played with mate / Total games played by player\")\n",
    "axs[3].set_title(\"Games won with mate / Total games played with mate\")\n",
    "\n",
    "for i in range(4):\n",
    "    axs[i].set_xticks(ticks=np.arange(len(players_names)))\n",
    "    axs[i].set_xticklabels(players_names, rotation=90, fontsize=8)\n",
    "    axs[i].set_yticks(ticks=np.arange(len(players_names)))\n",
    "    axs[i].set_yticklabels(players_names, rotation=0, fontsize=8)\n",
    "\n",
    "    axs[i].set_ylabel(\"Team mate\")\n",
    "    axs[i].set_xlabel(\"Player\")\n",
    "\n",
    "plt.savefig('results/frequencies.png', dpi=300, bbox_inches='tight')"
   ]
  }
 ],
 "metadata": {
  "kernelspec": {
   "display_name": "Python 3 (ipykernel)",
   "language": "python",
   "name": "python3"
  },
  "language_info": {
   "codemirror_mode": {
    "name": "ipython",
    "version": 3
   },
   "file_extension": ".py",
   "mimetype": "text/x-python",
   "name": "python",
   "nbconvert_exporter": "python",
   "pygments_lexer": "ipython3",
   "version": "3.9.3"
  }
 },
 "nbformat": 4,
 "nbformat_minor": 5
}
